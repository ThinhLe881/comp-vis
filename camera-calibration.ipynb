{
 "cells": [
  {
   "cell_type": "code",
   "execution_count": null,
   "metadata": {},
   "outputs": [],
   "source": [
    "# Compute pseudo-inverse of a matrix using SVD."
   ]
  },
  {
   "cell_type": "code",
   "execution_count": 1,
   "metadata": {},
   "outputs": [
    {
     "name": "stdout",
     "output_type": "stream",
     "text": [
      "M (3x4):\n",
      " [[  1   2   3   4]\n",
      " [  2   4   8   0]\n",
      " [ 12  -8 -12   0]]\n"
     ]
    }
   ],
   "source": [
    "import numpy as np\n",
    "\n",
    "M = np.array([[1,2,3,4],[2,4,8,0],[12,-8,-12,0]])\n",
    "print('M (3x4):\\n', M)"
   ]
  },
  {
   "cell_type": "code",
   "execution_count": 2,
   "metadata": {},
   "outputs": [
    {
     "name": "stdout",
     "output_type": "stream",
     "text": [
      "\n",
      "U (3x3):\n",
      " [[-0.13334471 -0.47047655 -0.8722792 ]\n",
      " [-0.32814963 -0.8095341   0.48679806]\n",
      " [ 0.93516683 -0.35115005  0.04643961]]\n",
      "\n",
      "E (non-zero Sigma_ii in diag form):\n",
      " [19.85439808  7.65819068  3.62698118]\n",
      "\n",
      "Vt (4x4):\n",
      " [[ 0.52544318 -0.45635343 -0.71758575 -0.02686452]\n",
      " [-0.82308545 -0.17887896 -0.47973498 -0.2457377 ]\n",
      " [ 0.18158138 -0.04656298  0.19858707 -0.96198922]\n",
      " [-0.11605177 -0.87038828  0.46420708  0.11605177]]\n"
     ]
    }
   ],
   "source": [
    "# Compute SVD\n",
    "U, E, Vt = np.linalg.svd(M)\n",
    "print('\\nU (3x3):\\n', U)\n",
    "print('\\nE (non-zero Sigma_ii in diag form):\\n', E)\n",
    "print('\\nVt (4x4):\\n', Vt)"
   ]
  },
  {
   "cell_type": "code",
   "execution_count": 3,
   "metadata": {},
   "outputs": [
    {
     "name": "stdout",
     "output_type": "stream",
     "text": [
      "Reconstructed_M (3x4):\n",
      " [[ 1.00000000e+00  2.00000000e+00  3.00000000e+00  4.00000000e+00]\n",
      " [ 2.00000000e+00  4.00000000e+00  8.00000000e+00 -1.99840144e-15]\n",
      " [ 1.20000000e+01 -8.00000000e+00 -1.20000000e+01  2.16493490e-15]]\n",
      "\n",
      "Element-wise squared reconstruction error (3x4):\n",
      " [[1.97215226e-31 1.97215226e-31 7.88860905e-31 1.77493704e-30]\n",
      " [1.77493704e-30 1.26217745e-29 3.15544362e-30 3.99360833e-30]\n",
      " [1.13595970e-28 7.88860905e-29 1.26217745e-29 4.68694311e-30]]\n"
     ]
    }
   ],
   "source": [
    "# Check that we can use SVD to reconstruct the original matrix\n",
    "Reconstructed_M = np.zeros((3,4))\n",
    "\n",
    "for i in range(len(E)):\n",
    "    Reconstructed_M += ( E[i] * np.dot(U[:,i].reshape(3,1), Vt[i,:].reshape(1,4)) )\n",
    "    \n",
    "print('Reconstructed_M (3x4):\\n', Reconstructed_M)\n",
    "print('\\nElement-wise squared reconstruction error (3x4):\\n', (M - Reconstructed_M)**2)"
   ]
  },
  {
   "cell_type": "code",
   "execution_count": 4,
   "metadata": {},
   "outputs": [
    {
     "name": "stdout",
     "output_type": "stream",
     "text": [
      "U is orthonormal (U U^T):\n",
      " [[ 1.00000000e+00  2.16270566e-16 -2.22650796e-17]\n",
      " [ 2.16270566e-16  1.00000000e+00 -1.09786322e-17]\n",
      " [-2.22650796e-17 -1.09786322e-17  1.00000000e+00]]\n",
      "\n",
      "V is orthonormal (V V^T):\n",
      " [[ 1.00000000e+00 -1.98998035e-16 -1.37767807e-16  8.30952129e-17]\n",
      " [-1.98998035e-16  1.00000000e+00 -1.12857076e-16 -1.49649823e-16]\n",
      " [-1.37767807e-16 -1.12857076e-16  1.00000000e+00  6.08494550e-17]\n",
      " [ 8.30952129e-17 -1.49649823e-16  6.08494550e-17  1.00000000e+00]]\n"
     ]
    }
   ],
   "source": [
    "# Check U and V are orthonormal matrices\n",
    "print('U is orthonormal (U U^T):\\n', np.dot(U, U.T))\n",
    "print('\\nV is orthonormal (V V^T):\\n', np.dot(Vt, Vt.T))"
   ]
  },
  {
   "cell_type": "code",
   "execution_count": 5,
   "metadata": {},
   "outputs": [
    {
     "name": "stdout",
     "output_type": "stream",
     "text": [
      "E_plus:\n",
      " [[0.05036667 0.         0.        ]\n",
      " [0.         0.13057915 0.        ]\n",
      " [0.         0.         0.27571138]\n",
      " [0.         0.         0.        ]]\n"
     ]
    }
   ],
   "source": [
    "# Compute Σ+\n",
    "E_plus = np.diag( 1./E )\n",
    "E_plus = np.vstack( (E_plus, np.zeros((1,3)) ) )\n",
    "print('E_plus:\\n', E_plus)"
   ]
  },
  {
   "cell_type": "code",
   "execution_count": 6,
   "metadata": {},
   "outputs": [
    {
     "name": "stdout",
     "output_type": "stream",
     "text": [
      "M_plus (4x3):\n",
      " [[ 0.003367    0.1026936   0.06481481]\n",
      " [ 0.02525253  0.02020202 -0.01388889]\n",
      " [-0.01346801  0.08922559 -0.00925926]\n",
      " [ 0.246633   -0.1026936  -0.00231481]]\n"
     ]
    }
   ],
   "source": [
    "# Compute M+\n",
    "M_plus = np.dot(Vt.T, np.dot(E_plus, U.T))\n",
    "print('M_plus (4x3):\\n', M_plus)"
   ]
  },
  {
   "cell_type": "code",
   "execution_count": 7,
   "metadata": {},
   "outputs": [
    {
     "name": "stdout",
     "output_type": "stream",
     "text": [
      "M M_plus (should be an identity matrix):\n",
      " [[ 1.00000000e+00  1.11022302e-16  3.46944695e-18]\n",
      " [ 3.74700271e-16  1.00000000e+00 -5.55111512e-17]\n",
      " [ 3.53883589e-16 -5.55111512e-17  1.00000000e+00]]\n"
     ]
    }
   ],
   "source": [
    "# Confirm MM+ is an identity matrix\n",
    "print('M M_plus (should be an identity matrix):\\n', np.dot(M, M_plus))"
   ]
  },
  {
   "cell_type": "code",
   "execution_count": 8,
   "metadata": {},
   "outputs": [
    {
     "name": "stdout",
     "output_type": "stream",
     "text": [
      "Pseudo-inverse using pinv:\n",
      " [[ 0.003367    0.1026936   0.06481481]\n",
      " [ 0.02525253  0.02020202 -0.01388889]\n",
      " [-0.01346801  0.08922559 -0.00925926]\n",
      " [ 0.246633   -0.1026936  -0.00231481]]\n"
     ]
    }
   ],
   "source": [
    "# Compute pseudo inverse using numpy.linalg.pinv\n",
    "print('Pseudo-inverse using pinv:\\n',np.linalg.pinv(M))"
   ]
  }
 ],
 "metadata": {
  "kernelspec": {
   "display_name": "Python 3.10.6 ('cv-env')",
   "language": "python",
   "name": "python3"
  },
  "language_info": {
   "codemirror_mode": {
    "name": "ipython",
    "version": 3
   },
   "file_extension": ".py",
   "mimetype": "text/x-python",
   "name": "python",
   "nbconvert_exporter": "python",
   "pygments_lexer": "ipython3",
   "version": "3.10.6"
  },
  "orig_nbformat": 4,
  "vscode": {
   "interpreter": {
    "hash": "811eadd1b9315c8837b3e58a9bddcc672061ae5662b11d553ae6ad1bb3af8509"
   }
  }
 },
 "nbformat": 4,
 "nbformat_minor": 2
}
