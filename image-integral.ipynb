{
 "cells": [
  {
   "cell_type": "code",
   "execution_count": 88,
   "metadata": {},
   "outputs": [],
   "source": [
    "import numpy as np"
   ]
  },
  {
   "cell_type": "code",
   "execution_count": 89,
   "metadata": {},
   "outputs": [
    {
     "data": {
      "text/plain": [
       "array([[ 1,  2,  3,  4],\n",
       "       [ 0, -1,  2,  8],\n",
       "       [ 9, -8, -3,  1]])"
      ]
     },
     "execution_count": 89,
     "metadata": {},
     "output_type": "execute_result"
    }
   ],
   "source": [
    "img = [[1, 2, 3, 4], [0, -1, 2, 8], [9, -8, -3, 1]]\n",
    "img = np.array(img)\n",
    "img"
   ]
  },
  {
   "cell_type": "code",
   "execution_count": 90,
   "metadata": {},
   "outputs": [
    {
     "data": {
      "text/plain": [
       "array([[ 1.,  3.,  6., 10.],\n",
       "       [ 1.,  2.,  7., 19.],\n",
       "       [10.,  3.,  5., 18.]])"
      ]
     },
     "execution_count": 90,
     "metadata": {},
     "output_type": "execute_result"
    }
   ],
   "source": [
    "# This can work from 1d to n-d\n",
    "#   only need to add extra for-loop for each dimension and change the img slicing\n",
    "def img_integral_2d(img):\n",
    "    h, w = img.shape\n",
    "    integral_img = np.zeros((h, w))\n",
    "    for i in range(h):\n",
    "        for j in range(w):\n",
    "            integral_img[i, j] = np.sum(img[:i+1, :j+1])\n",
    "    return integral_img\n",
    "\n",
    "integral_img = img_integral_2d(img)\n",
    "integral_img"
   ]
  },
  {
   "cell_type": "code",
   "execution_count": 94,
   "metadata": {},
   "outputs": [
    {
     "data": {
      "text/plain": [
       "array([[ 2.,  7., 19.],\n",
       "       [ 3.,  5., 18.]])"
      ]
     },
     "execution_count": 94,
     "metadata": {},
     "output_type": "execute_result"
    }
   ],
   "source": [
    "integral_img[1:3, 1:4]"
   ]
  },
  {
   "cell_type": "code",
   "execution_count": 108,
   "metadata": {},
   "outputs": [
    {
     "data": {
      "text/plain": [
       "-1.0"
      ]
     },
     "execution_count": 108,
     "metadata": {},
     "output_type": "execute_result"
    }
   ],
   "source": [
    "# I[x1:x2, y1:y2]\n",
    "# Summation = A - B - C + D\n",
    "def integral_summation_2d(img, x1, x2, y1, y2):\n",
    "    sum = img[x2-1, y2-1]\n",
    "    if x1 != 0:\n",
    "        sum -= img[x1-1, y2-1]\n",
    "    if y1 != 0:\n",
    "        sum -= img[x2-1, y1-1]\n",
    "    if x1 != 0 and y1 != 0:\n",
    "        sum += img[x1-1, y1-1]\n",
    "    return sum\n",
    "\n",
    "integral_summation_2d(integral_img, 1, 3, 1, 4)"
   ]
  },
  {
   "cell_type": "code",
   "execution_count": 92,
   "metadata": {},
   "outputs": [
    {
     "data": {
      "text/plain": [
       "array([[[1., 1., 1.],\n",
       "        [1., 1., 1.],\n",
       "        [1., 1., 1.]],\n",
       "\n",
       "       [[1., 1., 1.],\n",
       "        [1., 1., 1.],\n",
       "        [1., 1., 1.]],\n",
       "\n",
       "       [[1., 1., 1.],\n",
       "        [1., 1., 1.],\n",
       "        [1., 1., 1.]]])"
      ]
     },
     "execution_count": 92,
     "metadata": {},
     "output_type": "execute_result"
    }
   ],
   "source": [
    "unit_tensor = np.ones((3, 3, 3))\n",
    "unit_tensor"
   ]
  },
  {
   "cell_type": "code",
   "execution_count": 93,
   "metadata": {},
   "outputs": [
    {
     "data": {
      "text/plain": [
       "array([[[ 1.,  2.,  3.],\n",
       "        [ 2.,  4.,  6.],\n",
       "        [ 3.,  6.,  9.]],\n",
       "\n",
       "       [[ 2.,  4.,  6.],\n",
       "        [ 4.,  8., 12.],\n",
       "        [ 6., 12., 18.]],\n",
       "\n",
       "       [[ 3.,  6.,  9.],\n",
       "        [ 6., 12., 18.],\n",
       "        [ 9., 18., 27.]]])"
      ]
     },
     "execution_count": 93,
     "metadata": {},
     "output_type": "execute_result"
    }
   ],
   "source": [
    "def img_integral_3d(img):\n",
    "    h, w, z = img.shape\n",
    "    integral_img = np.zeros((h, w, z))\n",
    "    for i in range(h):\n",
    "        for j in range(w):\n",
    "            for k in range(z):\n",
    "                integral_img[i, j, k] = np.sum(img[:i+1, :j+1, :k+1])\n",
    "    return integral_img\n",
    "\n",
    "img_integral_3d(unit_tensor)"
   ]
  }
 ],
 "metadata": {
  "kernelspec": {
   "display_name": "cv-env",
   "language": "python",
   "name": "python3"
  },
  "language_info": {
   "codemirror_mode": {
    "name": "ipython",
    "version": 3
   },
   "file_extension": ".py",
   "mimetype": "text/x-python",
   "name": "python",
   "nbconvert_exporter": "python",
   "pygments_lexer": "ipython3",
   "version": "3.10.6"
  },
  "orig_nbformat": 4,
  "vscode": {
   "interpreter": {
    "hash": "811eadd1b9315c8837b3e58a9bddcc672061ae5662b11d553ae6ad1bb3af8509"
   }
  }
 },
 "nbformat": 4,
 "nbformat_minor": 2
}
