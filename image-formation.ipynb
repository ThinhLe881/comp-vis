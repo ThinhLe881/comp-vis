{
 "cells": [
  {
   "cell_type": "code",
   "execution_count": 1,
   "metadata": {},
   "outputs": [],
   "source": [
    "import numpy as np\n",
    "import math\n",
    "from scipy import linalg"
   ]
  },
  {
   "cell_type": "code",
   "execution_count": 2,
   "metadata": {},
   "outputs": [
    {
     "name": "stdout",
     "output_type": "stream",
     "text": [
      "l = [-1  3 -5]\n",
      "Computed line passes through point a: True\n",
      "Computed line passes through point b: True\n"
     ]
    }
   ],
   "source": [
    "# Computing representation of a line from two points in homogeneous coordinates\n",
    "ah = np.array([1,2,1])\n",
    "bh = np.array([4,3,1])\n",
    "\n",
    "l = np.cross(ah, bh)\n",
    "print('l = {}'.format(l))\n",
    "print('Computed line passes through point a: {}'.format(math.isclose(np.dot(ah, l), 0.0)))\n",
    "print('Computed line passes through point b: {}'.format(math.isclose(np.dot(bh, l), 0.0)))"
   ]
  },
  {
   "cell_type": "code",
   "execution_count": 3,
   "metadata": {},
   "outputs": [
    {
     "name": "stdout",
     "output_type": "stream",
     "text": [
      "ph = [ 6 11 -1]\n",
      "p = [ -6. -11.]\n",
      "Point p sits on l1: True\n",
      "Point p sits on l2: True\n"
     ]
    }
   ],
   "source": [
    "# Finding the intersection of two lines using homogeneous coordinates\n",
    "l1 = np.array([3,-1,7])\n",
    "l2 = np.array([2,-1,1])\n",
    "\n",
    "ph = np.cross(l1, l2)\n",
    "print('ph = {}'.format(ph))\n",
    "\n",
    "p = ph[:2] / ph[2]\n",
    "print('p = {}'.format(p))\n",
    "print('Point p sits on l1: {}'.format(math.isclose(np.dot(l1, np.append(p,[1])), 0.0)))\n",
    "print('Point p sits on l2: {}'.format(math.isclose(np.dot(l2, np.append(p,[1])), 0.0)))"
   ]
  },
  {
   "cell_type": "code",
   "execution_count": 4,
   "metadata": {},
   "outputs": [
    {
     "name": "stdout",
     "output_type": "stream",
     "text": [
      "p = [10 30  0]\n",
      "Homogenous component of p: w = 0\n",
      "Computed line passes through point a: True\n",
      "Computed line passes through point b: True\n"
     ]
    }
   ],
   "source": [
    "# Computing point of intersection of two lines using homogeneous coordinates\n",
    "ah = np.array([3,-1,7])\n",
    "bh = np.array([3,-1,-3])\n",
    "\n",
    "p = np.cross(ah, bh)\n",
    "print('p = {}'.format(p))\n",
    "print('Homogenous component of p: w = {}'.format(p[2]))\n",
    "print('Computed line passes through point a: {}'.format(math.isclose(np.dot(ah, p), 0.0)))\n",
    "print('Computed line passes through point b: {}'.format(math.isclose(np.dot(bh, p), 0.0)))"
   ]
  },
  {
   "cell_type": "code",
   "execution_count": null,
   "metadata": {},
   "outputs": [],
   "source": [
    "# Determining camera parameters from a projection matrix"
   ]
  },
  {
   "cell_type": "code",
   "execution_count": 5,
   "metadata": {},
   "outputs": [],
   "source": [
    "P = np.array([[3.53553e2, 3.39645e2, 2.77744e2, -1.44946e6],\n",
    "              [-1.03528e2, 2.33212e1, 4.59607e2, -6.32525e5],\n",
    "              [7.07107e-1, -3.53553e-1, 6.12372e-1, -9.18559e2]]) "
   ]
  },
  {
   "cell_type": "code",
   "execution_count": 6,
   "metadata": {},
   "outputs": [
    {
     "name": "stdout",
     "output_type": "stream",
     "text": [
      "M = [[ 3.53553e+02  3.39645e+02  2.77744e+02]\n",
      " [-1.03528e+02  2.33212e+01  4.59607e+02]\n",
      " [ 7.07107e-01 -3.53553e-01  6.12372e-01]]\n",
      "M_inv = [[ 8.83882084e-04 -1.53092925e-03  7.48128351e-01]\n",
      " [ 1.94194195e-03  1.00556004e-04 -9.56247129e-01]\n",
      " [ 1.00560104e-04  1.82582265e-03  2.17039911e-01]]\n",
      "p_4 = [-1.44946e+06 -6.32525e+05 -9.18559e+02]\n",
      "Center of this camera is [1000.00073079 2000.001952   1500.00028314]\n"
     ]
    }
   ],
   "source": [
    "# Let's break P into constituents parts\n",
    "M = P[:3,:3]\n",
    "print(f'M = {M}')\n",
    "\n",
    "M_inv = np.linalg.inv(M)\n",
    "print(f'M_inv = {M_inv}')\n",
    "\n",
    "p_4 = P[:,-1]\n",
    "print(f'p_4 = {p_4}')\n",
    "\n",
    "C = - np.dot(M_inv, p_4)\n",
    "print(f'Center of this camera is {C}')"
   ]
  },
  {
   "cell_type": "code",
   "execution_count": 7,
   "metadata": {},
   "outputs": [
    {
     "name": "stdout",
     "output_type": "stream",
     "text": [
      "K = [[ 468.16467128  -91.22505222 -300.00001631]\n",
      " [   0.         -427.20086371 -199.99985412]\n",
      " [   0.            0.           -0.99999975]]\n",
      "R = [[ 0.41380237  0.90914861  0.04707869]\n",
      " [ 0.57338211 -0.22011137 -0.78916661]\n",
      " [-0.70710718  0.35355309 -0.61237215]]\n"
     ]
    }
   ],
   "source": [
    "# M is given, how to find K and R?\n",
    "# Use RQ-decomposition\n",
    "K, R = linalg.rq(M)\n",
    "\n",
    "print(f'K = {K}')\n",
    "print(f'R = {R}')"
   ]
  },
  {
   "cell_type": "code",
   "execution_count": null,
   "metadata": {},
   "outputs": [],
   "source": [
    "# Confirm R is a rotation matrix, i.e., R^TR = I"
   ]
  },
  {
   "cell_type": "code",
   "execution_count": 8,
   "metadata": {},
   "outputs": [
    {
     "data": {
      "text/plain": [
       "True"
      ]
     },
     "execution_count": 8,
     "metadata": {},
     "output_type": "execute_result"
    }
   ],
   "source": [
    "np.isclose(np.dot(R[:,0], R[:,1]), 0)"
   ]
  },
  {
   "cell_type": "code",
   "execution_count": 9,
   "metadata": {},
   "outputs": [
    {
     "data": {
      "text/plain": [
       "array([[ 1.00000000e+00, -2.71323943e-16, -4.13630351e-17],\n",
       "       [-2.71323943e-16,  1.00000000e+00,  1.80002593e-16],\n",
       "       [-4.13630351e-17,  1.80002593e-16,  1.00000000e+00]])"
      ]
     },
     "execution_count": 9,
     "metadata": {},
     "output_type": "execute_result"
    }
   ],
   "source": [
    "np.dot(R, R.T)"
   ]
  },
  {
   "cell_type": "code",
   "execution_count": 10,
   "metadata": {},
   "outputs": [
    {
     "data": {
      "text/plain": [
       "array([[ 468.16467128,  -91.22505222, -300.00001631],\n",
       "       [   0.        , -427.20086371, -199.99985412],\n",
       "       [   0.        ,    0.        ,   -0.99999975]])"
      ]
     },
     "execution_count": 10,
     "metadata": {},
     "output_type": "execute_result"
    }
   ],
   "source": [
    "# Confirm K is an upper-diagonal matrix\n",
    "K"
   ]
  },
  {
   "cell_type": "code",
   "execution_count": null,
   "metadata": {},
   "outputs": [],
   "source": [
    "# Make diagonal entries of K positive"
   ]
  },
  {
   "cell_type": "code",
   "execution_count": 11,
   "metadata": {},
   "outputs": [
    {
     "data": {
      "text/plain": [
       "array([ 468.16467128, -427.20086371,   -0.99999975])"
      ]
     },
     "execution_count": 11,
     "metadata": {},
     "output_type": "execute_result"
    }
   ],
   "source": [
    "np.diag(K)"
   ]
  },
  {
   "cell_type": "code",
   "execution_count": 12,
   "metadata": {},
   "outputs": [
    {
     "data": {
      "text/plain": [
       "array([ 1., -1., -1.])"
      ]
     },
     "execution_count": 12,
     "metadata": {},
     "output_type": "execute_result"
    }
   ],
   "source": [
    "np.sign(np.diag(K))"
   ]
  },
  {
   "cell_type": "code",
   "execution_count": 13,
   "metadata": {},
   "outputs": [
    {
     "name": "stdout",
     "output_type": "stream",
     "text": [
      "F = [[ 1.  0.  0.]\n",
      " [ 0. -1.  0.]\n",
      " [ 0.  0. -1.]]\n"
     ]
    }
   ],
   "source": [
    "F = np.diag(np.sign(np.diag(K)))\n",
    "print(f'F = {F}')"
   ]
  },
  {
   "cell_type": "code",
   "execution_count": 14,
   "metadata": {},
   "outputs": [
    {
     "data": {
      "text/plain": [
       "array([[1., 0., 0.],\n",
       "       [0., 1., 0.],\n",
       "       [0., 0., 1.]])"
      ]
     },
     "execution_count": 14,
     "metadata": {},
     "output_type": "execute_result"
    }
   ],
   "source": [
    "np.dot(F, F) # FORTRAN IDENTITY"
   ]
  },
  {
   "cell_type": "code",
   "execution_count": null,
   "metadata": {},
   "outputs": [],
   "source": [
    "# Use M = K ∗ R = (K ∗ F) ∗ (F ∗ R)"
   ]
  },
  {
   "cell_type": "code",
   "execution_count": 15,
   "metadata": {},
   "outputs": [
    {
     "name": "stdout",
     "output_type": "stream",
     "text": [
      "new_K = [[468.16467128  91.22505222 300.00001631]\n",
      " [  0.         427.20086371 199.99985412]\n",
      " [  0.           0.           0.99999975]]\n"
     ]
    }
   ],
   "source": [
    "new_K = np.dot(K, F)\n",
    "print(f'new_K = {new_K}')"
   ]
  },
  {
   "cell_type": "code",
   "execution_count": 16,
   "metadata": {},
   "outputs": [
    {
     "name": "stdout",
     "output_type": "stream",
     "text": [
      "new_R = [[ 0.41380237  0.90914861  0.04707869]\n",
      " [-0.57338211  0.22011137  0.78916661]\n",
      " [ 0.70710718 -0.35355309  0.61237215]]\n"
     ]
    }
   ],
   "source": [
    "new_R = np.dot(F, R)\n",
    "print(f'new_R = {new_R}')"
   ]
  }
 ],
 "metadata": {
  "kernelspec": {
   "display_name": "Python 3.10.6 ('cv-env')",
   "language": "python",
   "name": "python3"
  },
  "language_info": {
   "codemirror_mode": {
    "name": "ipython",
    "version": 3
   },
   "file_extension": ".py",
   "mimetype": "text/x-python",
   "name": "python",
   "nbconvert_exporter": "python",
   "pygments_lexer": "ipython3",
   "version": "3.10.6"
  },
  "orig_nbformat": 4,
  "vscode": {
   "interpreter": {
    "hash": "811eadd1b9315c8837b3e58a9bddcc672061ae5662b11d553ae6ad1bb3af8509"
   }
  }
 },
 "nbformat": 4,
 "nbformat_minor": 2
}
